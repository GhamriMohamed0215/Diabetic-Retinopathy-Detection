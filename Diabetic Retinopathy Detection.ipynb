{
  "nbformat": 4,
  "nbformat_minor": 0,
  "metadata": {
    "colab": {
      "provenance": []
    },
    "kernelspec": {
      "name": "python3",
      "display_name": "Python 3"
    },
    "language_info": {
      "name": "python"
    }
  },
  "cells": [
    {
      "cell_type": "code",
      "execution_count": null,
      "metadata": {
        "id": "JK8DoIWmDLT5"
      },
      "outputs": [],
      "source": []
    },
    {
      "cell_type": "code",
      "execution_count": null,
      "metadata": {
        "colab": {
          "base_uri": "https://localhost:8080/"
        },
        "id": "k6OUn8CQwQ24",
        "outputId": "91920d0c-2f55-4c84-b261-1a032ef857de"
      },
      "outputs": [
        {
          "output_type": "stream",
          "name": "stdout",
          "text": [
            "Mounted at /content/drive\n"
          ]
        }
      ],
      "source": [
        "from google.colab import drive\n",
        "drive.mount('/content/drive')"
      ]
    },
    {
      "cell_type": "code",
      "source": [
        "!unzip /content/drive/MyDrive/dtataset_5.zip -d /content/retinopathy"
      ],
      "metadata": {
        "id": "q75ArOKmOkdR"
      },
      "execution_count": null,
      "outputs": []
    },
    {
      "cell_type": "code",
      "source": [
        "from tensorflow.keras.preprocessing.image import ImageDataGenerator"
      ],
      "metadata": {
        "id": "Zc7XbixkDxfI"
      },
      "execution_count": null,
      "outputs": []
    },
    {
      "cell_type": "code",
      "source": [
        "trdata = ImageDataGenerator()\n",
        "traindata = trdata.flow_from_directory( directory =\"/content/retinopathy/train\"#training dataset directory\n",
        ",target_size =(224 ,224) )\n",
        "tsdata = ImageDataGenerator()\n",
        "testdata = tsdata.flow_from_directory( directory =\"/content/retinopathy/val\"#validation dataset directory\n",
        "                                      , target_size =(224 ,224) )"
      ],
      "metadata": {
        "id": "X77hxbbEDvIu"
      },
      "execution_count": null,
      "outputs": []
    },
    {
      "cell_type": "code",
      "source": [
        "# Import necessary libraries\n",
        "import numpy as np\n",
        "import pandas as pd\n",
        "import cv2\n",
        "import tensorflow as tf\n",
        "from tensorflow.keras.applications import DenseNet121\n",
        "from tensorflow.keras.models import Sequential\n",
        "from tensorflow.keras.layers import Dense,BatchNormalization, GlobalAveragePooling2D, Dropout\n",
        "from tensorflow.keras.optimizers import Adam\n",
        "from tensorflow.keras.callbacks import EarlyStopping, ReduceLROnPlateau\n",
        "from sklearn.utils.class_weight import compute_class_weight\n",
        "from tensorflow.keras.regularizers import l2\n",
        "# Load pre-trained model\n",
        "base_model = DenseNet121(weights='imagenet', include_top=False, input_shape=(224,224,3))\n",
        "\n",
        "# Add classification layers on top of base model\n",
        "model = Sequential([\n",
        "    base_model,\n",
        "    GlobalAveragePooling2D(),\n",
        "    Dropout(0.1),\n",
        "    Dense(64, activation='relu'),\n",
        "    BatchNormalization(),\n",
        "    Dropout(0.1),\n",
        "    Dense(128, activation='relu'),\n",
        "    BatchNormalization(),\n",
        "    Dropout(0.1),\n",
        "    Dense(256, activation='relu'),\n",
        "    BatchNormalization(),\n",
        "    Dropout(0.1),\n",
        "    Dense(512, activation='relu'),\n",
        "    BatchNormalization(),\n",
        "    Dropout(0.1),\n",
        "    Dense(512, activation='relu'),\n",
        "    BatchNormalization(),\n",
        "    Dropout(0.1),\n",
        "    Dense(1024, activation='relu'),\n",
        "    BatchNormalization(),\n",
        "    Dropout(0.1),\n",
        "    Dense(5, activation='softmax')\n",
        "])\n",
        "\n",
        "# Compile model\n",
        "model.compile(tf.keras.optimizers.legacy.Adam(lr=0.0001, decay=1e-9), loss='categorical_crossentropy', metrics=['accuracy','Precision','FalseNegatives','FalsePositives','TrueNegatives','TruePositives'])\n",
        "#model.compile(optimizer=Adam(lr=0.0001), loss='categorical_crossentropy', metrics=['accuracy'])\n",
        "# Define callbacks\n",
        "from keras.callbacks import ModelCheckpoint\n",
        "earlystop = EarlyStopping(monitor='val_accuracy', min_delta=0.001, patience=10, verbose=1, mode='max', restore_best_weights=True)\n",
        "lr_scheduler = ReduceLROnPlateau(monitor='val_accuracy', factor=0.5, patience=3, verbose=1, mode='max', min_lr=0.0000001)\n",
        "#reduce_lr=ReduceLROnPlateau(monitor=\"val_accuracy\",mode=\"max\",factor=0.8,patience=5,verbose=1,min_delta=0.0000001)\n",
        "checkpoint = ModelCheckpoint(\"dens.h5\", monitor ='val_accuracy',\n",
        "verbose =1, save_best_only =True , save_weights_only =False , mode ='auto',period =1)\n",
        "# Train model\n",
        "history = model.fit(\n",
        "    traindata,\n",
        "    epochs=50,\n",
        "    validation_data=testdata,\n",
        "    callbacks=[earlystop, lr_scheduler,checkpoint]\n",
        ")\n"
      ],
      "metadata": {
        "colab": {
          "base_uri": "https://localhost:8080/"
        },
        "outputId": "2107e41d-bba9-4fba-bb08-ad3558859bdf",
        "id": "3KMN09TYEAau"
      },
      "execution_count": null,
      "outputs": [
        {
          "output_type": "stream",
          "name": "stderr",
          "text": [
            "/usr/local/lib/python3.10/dist-packages/keras/optimizers/legacy/adam.py:117: UserWarning: The `lr` argument is deprecated, use `learning_rate` instead.\n",
            "  super().__init__(name, **kwargs)\n",
            "WARNING:tensorflow:`period` argument is deprecated. Please use `save_freq` to specify the frequency in number of batches seen.\n"
          ]
        },
        {
          "output_type": "stream",
          "name": "stdout",
          "text": [
            "Epoch 1/50\n",
            "92/92 [==============================] - ETA: 0s - loss: 1.2369 - accuracy: 0.5664 - precision: 0.6638 - false_negatives: 1476.0000 - false_positives: 736.0000 - true_negatives: 10980.0000 - true_positives: 1453.0000\n",
            "Epoch 1: val_accuracy improved from -inf to 0.42033, saving model to dens.h5\n",
            "92/92 [==============================] - 52s 401ms/step - loss: 1.2369 - accuracy: 0.5664 - precision: 0.6638 - false_negatives: 1476.0000 - false_positives: 736.0000 - true_negatives: 10980.0000 - true_positives: 1453.0000 - val_loss: 1.4350 - val_accuracy: 0.4203 - val_precision: 1.0000 - val_false_negatives: 349.0000 - val_false_positives: 0.0000e+00 - val_true_negatives: 1456.0000 - val_true_positives: 15.0000 - lr: 1.0000e-04\n",
            "Epoch 2/50\n",
            "92/92 [==============================] - ETA: 0s - loss: 0.4990 - accuracy: 0.8173 - precision: 0.8534 - false_negatives: 618.0000 - false_positives: 397.0000 - true_negatives: 11319.0000 - true_positives: 2311.0000\n",
            "Epoch 2: val_accuracy did not improve from 0.42033\n",
            "92/92 [==============================] - 33s 358ms/step - loss: 0.4990 - accuracy: 0.8173 - precision: 0.8534 - false_negatives: 618.0000 - false_positives: 397.0000 - true_negatives: 11319.0000 - true_positives: 2311.0000 - val_loss: 2.0985 - val_accuracy: 0.3104 - val_precision: 0.3261 - val_false_negatives: 259.0000 - val_false_positives: 217.0000 - val_true_negatives: 1239.0000 - val_true_positives: 105.0000 - lr: 1.0000e-04\n",
            "Epoch 3/50\n",
            "92/92 [==============================] - ETA: 0s - loss: 0.3184 - accuracy: 0.8788 - precision: 0.8936 - false_negatives: 401.0000 - false_positives: 301.0000 - true_negatives: 11415.0000 - true_positives: 2528.0000\n",
            "Epoch 3: val_accuracy improved from 0.42033 to 0.72253, saving model to dens.h5\n",
            "92/92 [==============================] - 34s 371ms/step - loss: 0.3184 - accuracy: 0.8788 - precision: 0.8936 - false_negatives: 401.0000 - false_positives: 301.0000 - true_negatives: 11415.0000 - true_positives: 2528.0000 - val_loss: 1.4742 - val_accuracy: 0.7225 - val_precision: 0.7435 - val_false_negatives: 106.0000 - val_false_positives: 89.0000 - val_true_negatives: 1367.0000 - val_true_positives: 258.0000 - lr: 1.0000e-04\n",
            "Epoch 4/50\n",
            "92/92 [==============================] - ETA: 0s - loss: 0.2525 - accuracy: 0.8986 - precision: 0.9090 - false_negatives: 321.0000 - false_positives: 261.0000 - true_negatives: 11455.0000 - true_positives: 2608.0000\n",
            "Epoch 4: val_accuracy improved from 0.72253 to 0.85165, saving model to dens.h5\n",
            "92/92 [==============================] - 34s 370ms/step - loss: 0.2525 - accuracy: 0.8986 - precision: 0.9090 - false_negatives: 321.0000 - false_positives: 261.0000 - true_negatives: 11455.0000 - true_positives: 2608.0000 - val_loss: 0.5745 - val_accuracy: 0.8516 - val_precision: 0.8528 - val_false_negatives: 57.0000 - val_false_positives: 53.0000 - val_true_negatives: 1403.0000 - val_true_positives: 307.0000 - lr: 1.0000e-04\n",
            "Epoch 5/50\n",
            "92/92 [==============================] - ETA: 0s - loss: 0.1960 - accuracy: 0.9225 - precision: 0.9259 - false_negatives: 241.0000 - false_positives: 215.0000 - true_negatives: 11501.0000 - true_positives: 2688.0000\n",
            "Epoch 5: val_accuracy improved from 0.85165 to 0.92582, saving model to dens.h5\n",
            "92/92 [==============================] - 34s 371ms/step - loss: 0.1960 - accuracy: 0.9225 - precision: 0.9259 - false_negatives: 241.0000 - false_positives: 215.0000 - true_negatives: 11501.0000 - true_positives: 2688.0000 - val_loss: 0.1612 - val_accuracy: 0.9258 - val_precision: 0.9258 - val_false_negatives: 27.0000 - val_false_positives: 27.0000 - val_true_negatives: 1429.0000 - val_true_positives: 337.0000 - lr: 1.0000e-04\n",
            "Epoch 6/50\n",
            "92/92 [==============================] - ETA: 0s - loss: 0.1728 - accuracy: 0.9249 - precision: 0.9293 - false_negatives: 235.0000 - false_positives: 205.0000 - true_negatives: 11511.0000 - true_positives: 2694.0000\n",
            "Epoch 6: val_accuracy did not improve from 0.92582\n",
            "92/92 [==============================] - 33s 356ms/step - loss: 0.1728 - accuracy: 0.9249 - precision: 0.9293 - false_negatives: 235.0000 - false_positives: 205.0000 - true_negatives: 11511.0000 - true_positives: 2694.0000 - val_loss: 0.1763 - val_accuracy: 0.9231 - val_precision: 0.9306 - val_false_negatives: 29.0000 - val_false_positives: 25.0000 - val_true_negatives: 1431.0000 - val_true_positives: 335.0000 - lr: 1.0000e-04\n",
            "Epoch 7/50\n",
            "92/92 [==============================] - ETA: 0s - loss: 0.1665 - accuracy: 0.9283 - precision: 0.9306 - false_negatives: 219.0000 - false_positives: 202.0000 - true_negatives: 11514.0000 - true_positives: 2710.0000\n",
            "Epoch 7: val_accuracy improved from 0.92582 to 0.95604, saving model to dens.h5\n",
            "92/92 [==============================] - 36s 387ms/step - loss: 0.1665 - accuracy: 0.9283 - precision: 0.9306 - false_negatives: 219.0000 - false_positives: 202.0000 - true_negatives: 11514.0000 - true_positives: 2710.0000 - val_loss: 0.0879 - val_accuracy: 0.9560 - val_precision: 0.9559 - val_false_negatives: 17.0000 - val_false_positives: 16.0000 - val_true_negatives: 1440.0000 - val_true_positives: 347.0000 - lr: 1.0000e-04\n",
            "Epoch 8/50\n",
            "92/92 [==============================] - ETA: 0s - loss: 0.1449 - accuracy: 0.9396 - precision: 0.9420 - false_negatives: 184.0000 - false_positives: 169.0000 - true_negatives: 11547.0000 - true_positives: 2745.0000\n",
            "Epoch 8: val_accuracy did not improve from 0.95604\n",
            "92/92 [==============================] - 33s 355ms/step - loss: 0.1449 - accuracy: 0.9396 - precision: 0.9420 - false_negatives: 184.0000 - false_positives: 169.0000 - true_negatives: 11547.0000 - true_positives: 2745.0000 - val_loss: 0.0934 - val_accuracy: 0.9560 - val_precision: 0.9560 - val_false_negatives: 16.0000 - val_false_positives: 16.0000 - val_true_negatives: 1440.0000 - val_true_positives: 348.0000 - lr: 1.0000e-04\n",
            "Epoch 9/50\n",
            "92/92 [==============================] - ETA: 0s - loss: 0.1225 - accuracy: 0.9502 - precision: 0.9521 - false_negatives: 149.0000 - false_positives: 140.0000 - true_negatives: 11576.0000 - true_positives: 2780.0000\n",
            "Epoch 9: val_accuracy did not improve from 0.95604\n",
            "92/92 [==============================] - 34s 372ms/step - loss: 0.1225 - accuracy: 0.9502 - precision: 0.9521 - false_negatives: 149.0000 - false_positives: 140.0000 - true_negatives: 11576.0000 - true_positives: 2780.0000 - val_loss: 0.1049 - val_accuracy: 0.9533 - val_precision: 0.9533 - val_false_negatives: 17.0000 - val_false_positives: 17.0000 - val_true_negatives: 1439.0000 - val_true_positives: 347.0000 - lr: 1.0000e-04\n",
            "Epoch 10/50\n",
            "92/92 [==============================] - ETA: 0s - loss: 0.1268 - accuracy: 0.9464 - precision: 0.9476 - false_negatives: 161.0000 - false_positives: 153.0000 - true_negatives: 11563.0000 - true_positives: 2768.0000\n",
            "Epoch 10: ReduceLROnPlateau reducing learning rate to 4.999999873689376e-05.\n",
            "\n",
            "Epoch 10: val_accuracy did not improve from 0.95604\n",
            "92/92 [==============================] - 33s 357ms/step - loss: 0.1268 - accuracy: 0.9464 - precision: 0.9476 - false_negatives: 161.0000 - false_positives: 153.0000 - true_negatives: 11563.0000 - true_positives: 2768.0000 - val_loss: 0.0851 - val_accuracy: 0.9560 - val_precision: 0.9560 - val_false_negatives: 16.0000 - val_false_positives: 16.0000 - val_true_negatives: 1440.0000 - val_true_positives: 348.0000 - lr: 1.0000e-04\n",
            "Epoch 11/50\n",
            "92/92 [==============================] - ETA: 0s - loss: 0.1152 - accuracy: 0.9505 - precision: 0.9531 - false_negatives: 146.0000 - false_positives: 137.0000 - true_negatives: 11579.0000 - true_positives: 2783.0000\n",
            "Epoch 11: val_accuracy improved from 0.95604 to 0.95879, saving model to dens.h5\n",
            "92/92 [==============================] - 34s 371ms/step - loss: 0.1152 - accuracy: 0.9505 - precision: 0.9531 - false_negatives: 146.0000 - false_positives: 137.0000 - true_negatives: 11579.0000 - true_positives: 2783.0000 - val_loss: 0.0904 - val_accuracy: 0.9588 - val_precision: 0.9588 - val_false_negatives: 15.0000 - val_false_positives: 15.0000 - val_true_negatives: 1441.0000 - val_true_positives: 349.0000 - lr: 5.0000e-05\n",
            "Epoch 12/50\n",
            "92/92 [==============================] - ETA: 0s - loss: 0.0958 - accuracy: 0.9597 - precision: 0.9613 - false_negatives: 120.0000 - false_positives: 113.0000 - true_negatives: 11603.0000 - true_positives: 2809.0000\n",
            "Epoch 12: val_accuracy improved from 0.95879 to 0.96978, saving model to dens.h5\n",
            "92/92 [==============================] - 34s 373ms/step - loss: 0.0958 - accuracy: 0.9597 - precision: 0.9613 - false_negatives: 120.0000 - false_positives: 113.0000 - true_negatives: 11603.0000 - true_positives: 2809.0000 - val_loss: 0.0788 - val_accuracy: 0.9698 - val_precision: 0.9698 - val_false_negatives: 11.0000 - val_false_positives: 11.0000 - val_true_negatives: 1445.0000 - val_true_positives: 353.0000 - lr: 5.0000e-05\n",
            "Epoch 13/50\n",
            "92/92 [==============================] - ETA: 0s - loss: 0.0896 - accuracy: 0.9642 - precision: 0.9648 - false_negatives: 107.0000 - false_positives: 103.0000 - true_negatives: 11613.0000 - true_positives: 2822.0000\n",
            "Epoch 13: val_accuracy did not improve from 0.96978\n",
            "92/92 [==============================] - 34s 373ms/step - loss: 0.0896 - accuracy: 0.9642 - precision: 0.9648 - false_negatives: 107.0000 - false_positives: 103.0000 - true_negatives: 11613.0000 - true_positives: 2822.0000 - val_loss: 0.0688 - val_accuracy: 0.9643 - val_precision: 0.9643 - val_false_negatives: 13.0000 - val_false_positives: 13.0000 - val_true_negatives: 1443.0000 - val_true_positives: 351.0000 - lr: 5.0000e-05\n",
            "Epoch 14/50\n",
            "92/92 [==============================] - ETA: 0s - loss: 0.0691 - accuracy: 0.9734 - precision: 0.9747 - false_negatives: 79.0000 - false_positives: 74.0000 - true_negatives: 11642.0000 - true_positives: 2850.0000\n",
            "Epoch 14: val_accuracy did not improve from 0.96978\n",
            "92/92 [==============================] - 32s 353ms/step - loss: 0.0691 - accuracy: 0.9734 - precision: 0.9747 - false_negatives: 79.0000 - false_positives: 74.0000 - true_negatives: 11642.0000 - true_positives: 2850.0000 - val_loss: 0.0743 - val_accuracy: 0.9698 - val_precision: 0.9698 - val_false_negatives: 11.0000 - val_false_positives: 11.0000 - val_true_negatives: 1445.0000 - val_true_positives: 353.0000 - lr: 5.0000e-05\n",
            "Epoch 15/50\n",
            "92/92 [==============================] - ETA: 0s - loss: 0.0723 - accuracy: 0.9717 - precision: 0.9723 - false_negatives: 87.0000 - false_positives: 81.0000 - true_negatives: 11635.0000 - true_positives: 2842.0000\n",
            "Epoch 15: val_accuracy improved from 0.96978 to 0.97253, saving model to dens.h5\n",
            "92/92 [==============================] - 35s 377ms/step - loss: 0.0723 - accuracy: 0.9717 - precision: 0.9723 - false_negatives: 87.0000 - false_positives: 81.0000 - true_negatives: 11635.0000 - true_positives: 2842.0000 - val_loss: 0.0735 - val_accuracy: 0.9725 - val_precision: 0.9725 - val_false_negatives: 10.0000 - val_false_positives: 10.0000 - val_true_negatives: 1446.0000 - val_true_positives: 354.0000 - lr: 5.0000e-05\n",
            "Epoch 16/50\n",
            "92/92 [==============================] - ETA: 0s - loss: 0.0706 - accuracy: 0.9744 - precision: 0.9761 - false_negatives: 76.0000 - false_positives: 70.0000 - true_negatives: 11646.0000 - true_positives: 2853.0000\n",
            "Epoch 16: val_accuracy did not improve from 0.97253\n",
            "92/92 [==============================] - 33s 354ms/step - loss: 0.0706 - accuracy: 0.9744 - precision: 0.9761 - false_negatives: 76.0000 - false_positives: 70.0000 - true_negatives: 11646.0000 - true_positives: 2853.0000 - val_loss: 0.0903 - val_accuracy: 0.9725 - val_precision: 0.9725 - val_false_negatives: 10.0000 - val_false_positives: 10.0000 - val_true_negatives: 1446.0000 - val_true_positives: 354.0000 - lr: 5.0000e-05\n",
            "Epoch 17/50\n",
            "92/92 [==============================] - ETA: 0s - loss: 0.0474 - accuracy: 0.9826 - precision: 0.9833 - false_negatives: 52.0000 - false_positives: 49.0000 - true_negatives: 11667.0000 - true_positives: 2877.0000\n",
            "Epoch 17: val_accuracy did not improve from 0.97253\n",
            "92/92 [==============================] - 33s 356ms/step - loss: 0.0474 - accuracy: 0.9826 - precision: 0.9833 - false_negatives: 52.0000 - false_positives: 49.0000 - true_negatives: 11667.0000 - true_positives: 2877.0000 - val_loss: 0.0936 - val_accuracy: 0.9670 - val_precision: 0.9670 - val_false_negatives: 12.0000 - val_false_positives: 12.0000 - val_true_negatives: 1444.0000 - val_true_positives: 352.0000 - lr: 5.0000e-05\n",
            "Epoch 18/50\n",
            "92/92 [==============================] - ETA: 0s - loss: 0.0388 - accuracy: 0.9853 - precision: 0.9853 - false_negatives: 44.0000 - false_positives: 43.0000 - true_negatives: 11673.0000 - true_positives: 2885.0000\n",
            "Epoch 18: ReduceLROnPlateau reducing learning rate to 2.499999936844688e-05.\n",
            "\n",
            "Epoch 18: val_accuracy did not improve from 0.97253\n",
            "92/92 [==============================] - 33s 356ms/step - loss: 0.0388 - accuracy: 0.9853 - precision: 0.9853 - false_negatives: 44.0000 - false_positives: 43.0000 - true_negatives: 11673.0000 - true_positives: 2885.0000 - val_loss: 0.0880 - val_accuracy: 0.9698 - val_precision: 0.9698 - val_false_negatives: 11.0000 - val_false_positives: 11.0000 - val_true_negatives: 1445.0000 - val_true_positives: 353.0000 - lr: 5.0000e-05\n",
            "Epoch 19/50\n",
            "92/92 [==============================] - ETA: 0s - loss: 0.0342 - accuracy: 0.9874 - precision: 0.9884 - false_negatives: 37.0000 - false_positives: 34.0000 - true_negatives: 11682.0000 - true_positives: 2892.0000\n",
            "Epoch 19: val_accuracy did not improve from 0.97253\n",
            "92/92 [==============================] - 34s 370ms/step - loss: 0.0342 - accuracy: 0.9874 - precision: 0.9884 - false_negatives: 37.0000 - false_positives: 34.0000 - true_negatives: 11682.0000 - true_positives: 2892.0000 - val_loss: 0.0937 - val_accuracy: 0.9670 - val_precision: 0.9670 - val_false_negatives: 12.0000 - val_false_positives: 12.0000 - val_true_negatives: 1444.0000 - val_true_positives: 352.0000 - lr: 2.5000e-05\n",
            "Epoch 20/50\n",
            "92/92 [==============================] - ETA: 0s - loss: 0.0235 - accuracy: 0.9921 - precision: 0.9921 - false_negatives: 24.0000 - false_positives: 23.0000 - true_negatives: 11693.0000 - true_positives: 2905.0000\n",
            "Epoch 20: val_accuracy did not improve from 0.97253\n",
            "92/92 [==============================] - 33s 355ms/step - loss: 0.0235 - accuracy: 0.9921 - precision: 0.9921 - false_negatives: 24.0000 - false_positives: 23.0000 - true_negatives: 11693.0000 - true_positives: 2905.0000 - val_loss: 0.0856 - val_accuracy: 0.9698 - val_precision: 0.9698 - val_false_negatives: 11.0000 - val_false_positives: 11.0000 - val_true_negatives: 1445.0000 - val_true_positives: 353.0000 - lr: 2.5000e-05\n",
            "Epoch 21/50\n",
            "92/92 [==============================] - ETA: 0s - loss: 0.0230 - accuracy: 0.9935 - precision: 0.9935 - false_negatives: 19.0000 - false_positives: 19.0000 - true_negatives: 11697.0000 - true_positives: 2910.0000\n",
            "Epoch 21: ReduceLROnPlateau reducing learning rate to 1.249999968422344e-05.\n",
            "\n",
            "Epoch 21: val_accuracy did not improve from 0.97253\n",
            "92/92 [==============================] - 33s 353ms/step - loss: 0.0230 - accuracy: 0.9935 - precision: 0.9935 - false_negatives: 19.0000 - false_positives: 19.0000 - true_negatives: 11697.0000 - true_positives: 2910.0000 - val_loss: 0.0996 - val_accuracy: 0.9670 - val_precision: 0.9670 - val_false_negatives: 12.0000 - val_false_positives: 12.0000 - val_true_negatives: 1444.0000 - val_true_positives: 352.0000 - lr: 2.5000e-05\n",
            "Epoch 22/50\n",
            "92/92 [==============================] - ETA: 0s - loss: 0.0189 - accuracy: 0.9939 - precision: 0.9942 - false_negatives: 19.0000 - false_positives: 17.0000 - true_negatives: 11699.0000 - true_positives: 2910.0000\n",
            "Epoch 22: val_accuracy improved from 0.97253 to 0.97527, saving model to dens.h5\n",
            "92/92 [==============================] - 36s 386ms/step - loss: 0.0189 - accuracy: 0.9939 - precision: 0.9942 - false_negatives: 19.0000 - false_positives: 17.0000 - true_negatives: 11699.0000 - true_positives: 2910.0000 - val_loss: 0.0959 - val_accuracy: 0.9753 - val_precision: 0.9753 - val_false_negatives: 9.0000 - val_false_positives: 9.0000 - val_true_negatives: 1447.0000 - val_true_positives: 355.0000 - lr: 1.2500e-05\n",
            "Epoch 23/50\n",
            "92/92 [==============================] - ETA: 0s - loss: 0.0282 - accuracy: 0.9915 - precision: 0.9915 - false_negatives: 26.0000 - false_positives: 25.0000 - true_negatives: 11691.0000 - true_positives: 2903.0000\n",
            "Epoch 23: val_accuracy did not improve from 0.97527\n",
            "92/92 [==============================] - 33s 354ms/step - loss: 0.0282 - accuracy: 0.9915 - precision: 0.9915 - false_negatives: 26.0000 - false_positives: 25.0000 - true_negatives: 11691.0000 - true_positives: 2903.0000 - val_loss: 0.0991 - val_accuracy: 0.9725 - val_precision: 0.9725 - val_false_negatives: 10.0000 - val_false_positives: 10.0000 - val_true_negatives: 1446.0000 - val_true_positives: 354.0000 - lr: 1.2500e-05\n",
            "Epoch 24/50\n",
            "92/92 [==============================] - ETA: 0s - loss: 0.0345 - accuracy: 0.9884 - precision: 0.9887 - false_negatives: 35.0000 - false_positives: 33.0000 - true_negatives: 11683.0000 - true_positives: 2894.0000\n",
            "Epoch 24: val_accuracy did not improve from 0.97527\n",
            "92/92 [==============================] - 33s 358ms/step - loss: 0.0345 - accuracy: 0.9884 - precision: 0.9887 - false_negatives: 35.0000 - false_positives: 33.0000 - true_negatives: 11683.0000 - true_positives: 2894.0000 - val_loss: 0.0999 - val_accuracy: 0.9670 - val_precision: 0.9670 - val_false_negatives: 12.0000 - val_false_positives: 12.0000 - val_true_negatives: 1444.0000 - val_true_positives: 352.0000 - lr: 1.2500e-05\n",
            "Epoch 25/50\n",
            "92/92 [==============================] - ETA: 0s - loss: 0.0200 - accuracy: 0.9952 - precision: 0.9956 - false_negatives: 14.0000 - false_positives: 13.0000 - true_negatives: 11703.0000 - true_positives: 2915.0000\n",
            "Epoch 25: ReduceLROnPlateau reducing learning rate to 6.24999984211172e-06.\n",
            "\n",
            "Epoch 25: val_accuracy did not improve from 0.97527\n",
            "92/92 [==============================] - 33s 358ms/step - loss: 0.0200 - accuracy: 0.9952 - precision: 0.9956 - false_negatives: 14.0000 - false_positives: 13.0000 - true_negatives: 11703.0000 - true_positives: 2915.0000 - val_loss: 0.1086 - val_accuracy: 0.9670 - val_precision: 0.9670 - val_false_negatives: 12.0000 - val_false_positives: 12.0000 - val_true_negatives: 1444.0000 - val_true_positives: 352.0000 - lr: 1.2500e-05\n",
            "Epoch 26/50\n",
            "92/92 [==============================] - ETA: 0s - loss: 0.0171 - accuracy: 0.9942 - precision: 0.9945 - false_negatives: 17.0000 - false_positives: 16.0000 - true_negatives: 11700.0000 - true_positives: 2912.0000\n",
            "Epoch 26: val_accuracy did not improve from 0.97527\n",
            "92/92 [==============================] - 33s 354ms/step - loss: 0.0171 - accuracy: 0.9942 - precision: 0.9945 - false_negatives: 17.0000 - false_positives: 16.0000 - true_negatives: 11700.0000 - true_positives: 2912.0000 - val_loss: 0.1080 - val_accuracy: 0.9753 - val_precision: 0.9753 - val_false_negatives: 9.0000 - val_false_positives: 9.0000 - val_true_negatives: 1447.0000 - val_true_positives: 355.0000 - lr: 6.2500e-06\n",
            "Epoch 27/50\n",
            "92/92 [==============================] - ETA: 0s - loss: 0.0202 - accuracy: 0.9928 - precision: 0.9928 - false_negatives: 21.0000 - false_positives: 21.0000 - true_negatives: 11695.0000 - true_positives: 2908.0000\n",
            "Epoch 27: val_accuracy improved from 0.97527 to 0.97802, saving model to dens.h5\n",
            "92/92 [==============================] - 36s 391ms/step - loss: 0.0202 - accuracy: 0.9928 - precision: 0.9928 - false_negatives: 21.0000 - false_positives: 21.0000 - true_negatives: 11695.0000 - true_positives: 2908.0000 - val_loss: 0.1006 - val_accuracy: 0.9780 - val_precision: 0.9780 - val_false_negatives: 8.0000 - val_false_positives: 8.0000 - val_true_negatives: 1448.0000 - val_true_positives: 356.0000 - lr: 6.2500e-06\n",
            "Epoch 28/50\n",
            "92/92 [==============================] - ETA: 0s - loss: 0.0222 - accuracy: 0.9928 - precision: 0.9932 - false_negatives: 21.0000 - false_positives: 20.0000 - true_negatives: 11696.0000 - true_positives: 2908.0000\n",
            "Epoch 28: val_accuracy did not improve from 0.97802\n",
            "92/92 [==============================] - 33s 354ms/step - loss: 0.0222 - accuracy: 0.9928 - precision: 0.9932 - false_negatives: 21.0000 - false_positives: 20.0000 - true_negatives: 11696.0000 - true_positives: 2908.0000 - val_loss: 0.1022 - val_accuracy: 0.9753 - val_precision: 0.9753 - val_false_negatives: 9.0000 - val_false_positives: 9.0000 - val_true_negatives: 1447.0000 - val_true_positives: 355.0000 - lr: 6.2500e-06\n",
            "Epoch 29/50\n",
            "92/92 [==============================] - ETA: 0s - loss: 0.0159 - accuracy: 0.9956 - precision: 0.9956 - false_negatives: 13.0000 - false_positives: 13.0000 - true_negatives: 11703.0000 - true_positives: 2916.0000\n",
            "Epoch 29: val_accuracy did not improve from 0.97802\n",
            "92/92 [==============================] - 34s 370ms/step - loss: 0.0159 - accuracy: 0.9956 - precision: 0.9956 - false_negatives: 13.0000 - false_positives: 13.0000 - true_negatives: 11703.0000 - true_positives: 2916.0000 - val_loss: 0.1063 - val_accuracy: 0.9698 - val_precision: 0.9698 - val_false_negatives: 11.0000 - val_false_positives: 11.0000 - val_true_negatives: 1445.0000 - val_true_positives: 353.0000 - lr: 6.2500e-06\n",
            "Epoch 30/50\n",
            "92/92 [==============================] - ETA: 0s - loss: 0.0177 - accuracy: 0.9949 - precision: 0.9949 - false_negatives: 15.0000 - false_positives: 15.0000 - true_negatives: 11701.0000 - true_positives: 2914.0000\n",
            "Epoch 30: ReduceLROnPlateau reducing learning rate to 3.12499992105586e-06.\n",
            "\n",
            "Epoch 30: val_accuracy did not improve from 0.97802\n",
            "92/92 [==============================] - 33s 353ms/step - loss: 0.0177 - accuracy: 0.9949 - precision: 0.9949 - false_negatives: 15.0000 - false_positives: 15.0000 - true_negatives: 11701.0000 - true_positives: 2914.0000 - val_loss: 0.1120 - val_accuracy: 0.9670 - val_precision: 0.9670 - val_false_negatives: 12.0000 - val_false_positives: 12.0000 - val_true_negatives: 1444.0000 - val_true_positives: 352.0000 - lr: 6.2500e-06\n",
            "Epoch 31/50\n",
            "92/92 [==============================] - ETA: 0s - loss: 0.0191 - accuracy: 0.9928 - precision: 0.9932 - false_negatives: 21.0000 - false_positives: 20.0000 - true_negatives: 11696.0000 - true_positives: 2908.0000\n",
            "Epoch 31: val_accuracy did not improve from 0.97802\n",
            "92/92 [==============================] - 33s 358ms/step - loss: 0.0191 - accuracy: 0.9928 - precision: 0.9932 - false_negatives: 21.0000 - false_positives: 20.0000 - true_negatives: 11696.0000 - true_positives: 2908.0000 - val_loss: 0.1104 - val_accuracy: 0.9698 - val_precision: 0.9698 - val_false_negatives: 11.0000 - val_false_positives: 11.0000 - val_true_negatives: 1445.0000 - val_true_positives: 353.0000 - lr: 3.1250e-06\n",
            "Epoch 32/50\n",
            "92/92 [==============================] - ETA: 0s - loss: 0.0122 - accuracy: 0.9966 - precision: 0.9966 - false_negatives: 12.0000 - false_positives: 10.0000 - true_negatives: 11706.0000 - true_positives: 2917.0000\n",
            "Epoch 32: val_accuracy did not improve from 0.97802\n",
            "92/92 [==============================] - 33s 354ms/step - loss: 0.0122 - accuracy: 0.9966 - precision: 0.9966 - false_negatives: 12.0000 - false_positives: 10.0000 - true_negatives: 11706.0000 - true_positives: 2917.0000 - val_loss: 0.1098 - val_accuracy: 0.9725 - val_precision: 0.9725 - val_false_negatives: 10.0000 - val_false_positives: 10.0000 - val_true_negatives: 1446.0000 - val_true_positives: 354.0000 - lr: 3.1250e-06\n",
            "Epoch 33/50\n",
            "92/92 [==============================] - ETA: 0s - loss: 0.0174 - accuracy: 0.9945 - precision: 0.9945 - false_negatives: 17.0000 - false_positives: 16.0000 - true_negatives: 11700.0000 - true_positives: 2912.0000\n",
            "Epoch 33: ReduceLROnPlateau reducing learning rate to 1.56249996052793e-06.\n",
            "\n",
            "Epoch 33: val_accuracy did not improve from 0.97802\n",
            "92/92 [==============================] - 33s 354ms/step - loss: 0.0174 - accuracy: 0.9945 - precision: 0.9945 - false_negatives: 17.0000 - false_positives: 16.0000 - true_negatives: 11700.0000 - true_positives: 2912.0000 - val_loss: 0.1055 - val_accuracy: 0.9753 - val_precision: 0.9753 - val_false_negatives: 9.0000 - val_false_positives: 9.0000 - val_true_negatives: 1447.0000 - val_true_positives: 355.0000 - lr: 3.1250e-06\n",
            "Epoch 34/50\n",
            "92/92 [==============================] - ETA: 0s - loss: 0.0123 - accuracy: 0.9966 - precision: 0.9966 - false_negatives: 10.0000 - false_positives: 10.0000 - true_negatives: 11706.0000 - true_positives: 2919.0000\n",
            "Epoch 34: val_accuracy did not improve from 0.97802\n",
            "92/92 [==============================] - 33s 357ms/step - loss: 0.0123 - accuracy: 0.9966 - precision: 0.9966 - false_negatives: 10.0000 - false_positives: 10.0000 - true_negatives: 11706.0000 - true_positives: 2919.0000 - val_loss: 0.1062 - val_accuracy: 0.9753 - val_precision: 0.9753 - val_false_negatives: 9.0000 - val_false_positives: 9.0000 - val_true_negatives: 1447.0000 - val_true_positives: 355.0000 - lr: 1.5625e-06\n",
            "Epoch 35/50\n",
            "92/92 [==============================] - ETA: 0s - loss: 0.0130 - accuracy: 0.9956 - precision: 0.9956 - false_negatives: 14.0000 - false_positives: 13.0000 - true_negatives: 11703.0000 - true_positives: 2915.0000\n",
            "Epoch 35: val_accuracy did not improve from 0.97802\n",
            "92/92 [==============================] - 33s 356ms/step - loss: 0.0130 - accuracy: 0.9956 - precision: 0.9956 - false_negatives: 14.0000 - false_positives: 13.0000 - true_negatives: 11703.0000 - true_positives: 2915.0000 - val_loss: 0.1067 - val_accuracy: 0.9753 - val_precision: 0.9753 - val_false_negatives: 9.0000 - val_false_positives: 9.0000 - val_true_negatives: 1447.0000 - val_true_positives: 355.0000 - lr: 1.5625e-06\n",
            "Epoch 36/50\n",
            "92/92 [==============================] - ETA: 0s - loss: 0.0225 - accuracy: 0.9928 - precision: 0.9928 - false_negatives: 22.0000 - false_positives: 21.0000 - true_negatives: 11695.0000 - true_positives: 2907.0000\n",
            "Epoch 36: ReduceLROnPlateau reducing learning rate to 7.81249980263965e-07.\n",
            "\n",
            "Epoch 36: val_accuracy did not improve from 0.97802\n",
            "92/92 [==============================] - 33s 355ms/step - loss: 0.0225 - accuracy: 0.9928 - precision: 0.9928 - false_negatives: 22.0000 - false_positives: 21.0000 - true_negatives: 11695.0000 - true_positives: 2907.0000 - val_loss: 0.1076 - val_accuracy: 0.9753 - val_precision: 0.9753 - val_false_negatives: 9.0000 - val_false_positives: 9.0000 - val_true_negatives: 1447.0000 - val_true_positives: 355.0000 - lr: 1.5625e-06\n",
            "Epoch 37/50\n",
            "92/92 [==============================] - ETA: 0s - loss: 0.0214 - accuracy: 0.9942 - precision: 0.9942 - false_negatives: 17.0000 - false_positives: 17.0000 - true_negatives: 11699.0000 - true_positives: 2912.0000Restoring model weights from the end of the best epoch: 27.\n",
            "\n",
            "Epoch 37: val_accuracy did not improve from 0.97802\n",
            "92/92 [==============================] - 33s 356ms/step - loss: 0.0214 - accuracy: 0.9942 - precision: 0.9942 - false_negatives: 17.0000 - false_positives: 17.0000 - true_negatives: 11699.0000 - true_positives: 2912.0000 - val_loss: 0.1070 - val_accuracy: 0.9753 - val_precision: 0.9753 - val_false_negatives: 9.0000 - val_false_positives: 9.0000 - val_true_negatives: 1447.0000 - val_true_positives: 355.0000 - lr: 7.8125e-07\n",
            "Epoch 37: early stopping\n"
          ]
        }
      ]
    },
    {
      "cell_type": "code",
      "execution_count": null,
      "metadata": {
        "colab": {
          "base_uri": "https://localhost:8080/"
        },
        "id": "apq6qqaeY_n4",
        "outputId": "d9c07fda-482d-4a04-b016-94d47a873db0"
      },
      "outputs": [
        {
          "output_type": "stream",
          "name": "stdout",
          "text": [
            "Found 2848 images belonging to 5 classes.\n"
          ]
        }
      ],
      "source": [
        "tssdata = ImageDataGenerator()\n",
        "tst = tssdata.flow_from_directory( directory =\"/content/retinopathy/test\"\n",
        ",target_size =(224 ,224) )"
      ]
    },
    {
      "cell_type": "code",
      "execution_count": null,
      "metadata": {
        "colab": {
          "base_uri": "https://localhost:8080/"
        },
        "id": "sJ5UXzMXJMJ0",
        "outputId": "fcbf5bb2-0ff2-4f17-d3fe-207c5f08236d"
      },
      "outputs": [
        {
          "output_type": "stream",
          "name": "stdout",
          "text": [
            "89/89 [==============================] - 9s 100ms/step - loss: 0.1678 - accuracy: 0.9705 - precision: 0.9705 - false_negatives: 84.0000 - false_positives: 84.0000 - true_negatives: 11308.0000 - true_positives: 2764.0000\n"
          ]
        },
        {
          "output_type": "execute_result",
          "data": {
            "text/plain": [
              "[0.16777174174785614,\n",
              " 0.9705055952072144,\n",
              " 0.9705055952072144,\n",
              " 84.0,\n",
              " 84.0,\n",
              " 11308.0,\n",
              " 2764.0]"
            ]
          },
          "metadata": {},
          "execution_count": 59
        }
      ],
      "source": [
        "model.evaluate(tst)"
      ]
    },
    {
      "cell_type": "code",
      "source": [
        "import tqdm\n",
        "#tst.reset()\n",
        "X_test, Y_test = next(tst)\n",
        "for i in tqdm.tqdm(range(int(tst.n/32))):\n",
        "  img, label = next(tst)\n",
        "  X_test = np.append(X_test, img, axis=0 )\n",
        "  Y_test = np.append(Y_test, label, axis=0)\n",
        "print(X_test.shape, Y_test.shape)"
      ],
      "metadata": {
        "colab": {
          "base_uri": "https://localhost:8080/"
        },
        "id": "IZqJ1Cj_ITG9",
        "outputId": "b5f88254-a63d-46fb-c8fd-33ce92f1e39d"
      },
      "execution_count": null,
      "outputs": [
        {
          "output_type": "stream",
          "name": "stderr",
          "text": [
            "100%|██████████| 89/89 [00:40<00:00,  2.22it/s]"
          ]
        },
        {
          "output_type": "stream",
          "name": "stdout",
          "text": [
            "(2880, 224, 224, 3) (2880, 5)\n"
          ]
        },
        {
          "output_type": "stream",
          "name": "stderr",
          "text": [
            "\n"
          ]
        }
      ]
    },
    {
      "cell_type": "code",
      "source": [
        "import numpy as np\n",
        "from sklearn.metrics import confusion_matrix,classification_report\n",
        "\n",
        "predictions = model.predict(X_test)\n",
        "\n",
        "y_pred = np.argmax(predictions, axis=1)\n",
        "\n",
        "true_classes =  np.argmax(Y_test, axis=1)\n",
        "\n",
        "#class_labels = list(tst.class_indices.keys())\n",
        "\n",
        "#print(class_labels)\n",
        "\n",
        "print(confusion_matrix(true_classes, y_pred))"
      ],
      "metadata": {
        "colab": {
          "base_uri": "https://localhost:8080/"
        },
        "id": "rg4-pY28Ewhy",
        "outputId": "18f83800-bc28-42a4-e33c-5aedc7669f9b"
      },
      "execution_count": null,
      "outputs": [
        {
          "output_type": "stream",
          "name": "stdout",
          "text": [
            "90/90 [==============================] - 10s 92ms/step\n",
            "[[840   0   0   0   0]\n",
            " [  0 688   0   0   0]\n",
            " [  0   0 460   0   0]\n",
            " [  0   0   0 323  24]\n",
            " [  0   0   0  61 484]]\n"
          ]
        }
      ]
    },
    {
      "cell_type": "code",
      "source": [
        "import matplotlib.pyplot as plt\n",
        "from mlxtend.plotting import plot_confusion_matrix\n",
        "CM=confusion_matrix(true_classes, y_pred)\n",
        "fig, ax = plot_confusion_matrix(conf_mat=CM,figsize=(5,5))\n",
        "plt.show()"
      ],
      "metadata": {
        "colab": {
          "base_uri": "https://localhost:8080/",
          "height": 465
        },
        "id": "GfQV1oJA4ZVm",
        "outputId": "46df7628-3b91-4978-f88b-cfe8adc337ae"
      },
      "execution_count": null,
      "outputs": [
        {
          "output_type": "display_data",
          "data": {
            "text/plain": [
              "<Figure size 500x500 with 1 Axes>"
            ],
            "image/png": "[encoded data removed]"
          },
          "metadata": {}
        }
      ]
    },
    {
      "cell_type": "code",
      "source": [
        "from sklearn.metrics import confusion_matrix\n",
        "\n",
        "\n",
        "\n",
        "# Compute the confusion matrix\n",
        "cm = confusion_matrix(true_labels, predicted_labels)\n",
        "\n",
        "def calculate_precision(cm, class_index):\n",
        "    # Extract the true positives and false positives for the specified class\n",
        "    tp = cm[class_index, class_index]\n",
        "    fp = sum(cm[:, class_index]) - tp\n",
        "\n",
        "    # Calculate precision\n",
        "    precision = tp / (tp + fp)\n",
        "    return precision\n",
        "\n",
        "def calculate_recall(cm, class_index):\n",
        "    # Extract the true positives and false negatives for the specified class\n",
        "    tp = cm[class_index, class_index]\n",
        "    fn = sum(cm[class_index, :]) - tp\n",
        "\n",
        "    # Calculate recall\n",
        "    recall = tp / (tp + fn)\n",
        "    return recall\n",
        "\n",
        "def calculate_f1_score(precision, recall):\n",
        "    # Calculate F1 score\n",
        "    f1_score = 2 * (precision * recall) / (precision + recall)\n",
        "    return f1_score\n",
        "\n",
        "num_classes = cm.shape[0]  # Number of classes in your multiclassification problem\n",
        "\n",
        "# Calculate precision, recall, and F1 score for each class\n",
        "precisions = []\n",
        "recalls = []\n",
        "f1_scores = []\n",
        "for class_index in range(num_classes):\n",
        "    precision = calculate_precision(cm, class_index)\n",
        "    recall = calculate_recall(cm, class_index)\n",
        "    f1_score = calculate_f1_score(precision, recall)\n",
        "    precisions.append(precision)\n",
        "    recalls.append(recall)\n",
        "    f1_scores.append(f1_score)\n",
        "\n",
        "# Print precision, recall, and F1 score for each class\n",
        "for class_index in range(num_classes):\n",
        "    print(f\"Metrics for class {class_index}:\")\n",
        "    print(f\"  Precision: {precisions[class_index]}\")\n",
        "    print(f\"  Recall: {recalls[class_index]}\")\n",
        "    print(f\"  F1 Score: {f1_scores[class_index]}\")\n",
        "    print()\n"
      ],
      "metadata": {
        "colab": {
          "base_uri": "https://localhost:8080/"
        },
        "id": "VYbJDa96EyjV",
        "outputId": "d64d4d96-f37b-448c-e594-7b63a0fcce03"
      },
      "execution_count": null,
      "outputs": [
        {
          "output_type": "stream",
          "name": "stdout",
          "text": [
            "Metrics for class 0:\n",
            "  Precision: 1.0\n",
            "  Recall: 1.0\n",
            "  F1 Score: 1.0\n",
            "\n",
            "Metrics for class 1:\n",
            "  Precision: 1.0\n",
            "  Recall: 1.0\n",
            "  F1 Score: 1.0\n",
            "\n",
            "Metrics for class 2:\n",
            "  Precision: 1.0\n",
            "  Recall: 1.0\n",
            "  F1 Score: 1.0\n",
            "\n",
            "Metrics for class 3:\n",
            "  Precision: 0.8411458333333334\n",
            "  Recall: 0.930835734870317\n",
            "  F1 Score: 0.8837209302325582\n",
            "\n",
            "Metrics for class 4:\n",
            "  Precision: 0.952755905511811\n",
            "  Recall: 0.8880733944954129\n",
            "  F1 Score: 0.919278252611586\n",
            "\n"
          ]
        }
      ]
    },
    {
      "cell_type": "code",
      "source": [
        "from sklearn.metrics import classification_report\n",
        "\n",
        "# Assuming you have the true labels and predicted labels for your multiclassification model\n",
        "\n",
        "\n",
        "# Generate the classification report\n",
        "report = classification_report(true_labels, predicted_labels)\n",
        "\n",
        "print(\"Classification Report:\")\n",
        "print(report)\n"
      ],
      "metadata": {
        "colab": {
          "base_uri": "https://localhost:8080/"
        },
        "id": "E-wUAalpF-vz",
        "outputId": "9bb6ef0c-b4db-4828-ed65-4370a3914dca"
      },
      "execution_count": null,
      "outputs": [
        {
          "output_type": "stream",
          "name": "stdout",
          "text": [
            "Classification Report:\n",
            "              precision    recall  f1-score   support\n",
            "\n",
            "           0       1.00      1.00      1.00       840\n",
            "           1       1.00      1.00      1.00       688\n",
            "           2       1.00      1.00      1.00       460\n",
            "           3       0.84      0.93      0.88       347\n",
            "           4       0.95      0.89      0.92       545\n",
            "\n",
            "    accuracy                           0.97      2880\n",
            "   macro avg       0.96      0.96      0.96      2880\n",
            "weighted avg       0.97      0.97      0.97      2880\n",
            "\n"
          ]
        }
      ]
    },
    {
      "cell_type": "code",
      "source": [
        "model.save(\"/content/Densenet-121_5_classes.h5\")"
      ],
      "metadata": {
        "id": "dsJj-vDudC6i"
      },
      "execution_count": null,
      "outputs": []
    }
  ]
}